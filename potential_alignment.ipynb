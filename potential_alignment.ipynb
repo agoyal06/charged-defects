{
 "cells": [
  {
   "cell_type": "markdown",
   "metadata": {},
   "source": [
    "# Compute charged defect potential alignment\n",
    "\n",
    "Implements the method described in the following papers:\n",
    "\n",
    "Freysoldt et al. Phys. Rev. Lett. 102, 016402 (2009)\n",
    "\n",
    "Freysoldt et al. Phys. Status Solidi B 248 (2011)"
   ]
  },
  {
   "cell_type": "code",
   "execution_count": null,
   "metadata": {
    "collapsed": false
   },
   "outputs": [],
   "source": [
    "%matplotlib inline\n",
    "import matplotlib.pyplot as plt\n",
    "import numpy as np\n",
    "from scipy.special import erf"
   ]
  },
  {
   "cell_type": "markdown",
   "metadata": {},
   "source": [
    "3D Gaussian model charge density"
   ]
  },
  {
   "cell_type": "code",
   "execution_count": null,
   "metadata": {
    "collapsed": false
   },
   "outputs": [],
   "source": [
    "L = 16.8/2.0 #angstrom\n",
    "N = 500\n",
    "Q = 3.\n",
    "sigma = 1.0*0.53 #ang\n",
    "\n",
    "nx, ny, nz = (N, N, N)\n",
    "x = np.linspace(-(4.0*L)/3.0, (2.0*L)/3.0, nx)\n",
    "y = np.linspace(-(4.0*L)/3.0, (2.0*L)/3.0, ny)\n",
    "z = np.linspace(-(4.0*L)/3.0, (2.0*L)/3.0, nz)\n",
    "xv, yv, zv= np.meshgrid(x, y, z)\n",
    "\n",
    "# 3d real charge density\n",
    "RHO = Q*np.exp(-((xv)**2 + (yv)**2 + (zv)**2)/2/sigma**2) / sigma**3 / np.sqrt((2*np.pi)**3) #ang^-3"
   ]
  },
  {
   "cell_type": "markdown",
   "metadata": {},
   "source": [
    "plot charge density, x-y average along z"
   ]
  },
  {
   "cell_type": "code",
   "execution_count": null,
   "metadata": {
    "collapsed": false
   },
   "outputs": [],
   "source": [
    "RHOz = []\n",
    "for ll in range(nz):\n",
    "    RHOz.append(np.sum(RHO[:,:,ll])/ny/nx)\n",
    "    \n",
    "plt.plot(RHOz, 'r')"
   ]
  },
  {
   "cell_type": "markdown",
   "metadata": {},
   "source": [
    "charge density fft --> reciprocal space"
   ]
  },
  {
   "cell_type": "code",
   "execution_count": null,
   "metadata": {
    "collapsed": false
   },
   "outputs": [],
   "source": [
    "RHOG = np.fft.rfftn(RHO) \n",
    "\n",
    "# rfftn (a[, s, axes]) compute the N-dimensional discrete Fourier Transforma for real input\n",
    "# syntax : numpy.fft.rfftn\n",
    "# fft (a[, n, axis]) compute the one-dimensional discrete Fourier Transform\n",
    "# rfft (a, [, n, axis]) compute the one-dimensional discrete Fourier Transform for real input\n",
    "\n",
    "Gx = np.linspace(0, 2*np.pi/(2*L), nx/2+1)\n",
    "Gy = np.linspace(0, 2*np.pi/(2*L), ny/2+1)\n",
    "Gz = np.linspace(0, 2*np.pi/(2*L), nz/2+1)\n",
    "Gxv, Gyv, Gzv= np.meshgrid(Gx, Gy, Gz)\n"
   ]
  },
  {
   "cell_type": "markdown",
   "metadata": {},
   "source": [
    "solve 3D poisson eqn in reciprocal space"
   ]
  },
  {
   "cell_type": "code",
   "execution_count": null,
   "metadata": {
    "collapsed": false
   },
   "outputs": [],
   "source": [
    "VG = np.zeros((len(Gx), len(Gy), len(Gz)), dtype=complex)\n",
    "#VG[1:] = RHOG[1:]/G[1:]**2\n",
    "\n",
    "for i in range(len(Gxv)):\n",
    "    for j in range(len(Gyv)):\n",
    "        for k in range(len(Gzv)):\n",
    "            G2 = Gxv[i,j,k]**2 + Gyv[i,j,k]**2 + Gzv[i,j,k]**2\n",
    "            if G2 > 1e-6:\n",
    "                VG[i,j,k] = RHOG[i,j,k]/G2 "
   ]
  },
  {
   "cell_type": "markdown",
   "metadata": {},
   "source": [
    "3D pot in real space"
   ]
  },
  {
   "cell_type": "code",
   "execution_count": null,
   "metadata": {
    "collapsed": false
   },
   "outputs": [],
   "source": [
    "V2 = np.fft.irfftn(VG) / (2*L)##CHECK ## since 3D potential varies as 1/r it seems more reasonable to normalize by L than L**3\n",
    "# irfftn (a[, s, axes]) compute the inverse of the N-dimensional FFT of real input\n",
    "# syntax: numpy.fft.irfftn\n",
    "#V2 = np.fft.irfftn(VG)/N\n"
   ]
  },
  {
   "cell_type": "markdown",
   "metadata": {},
   "source": [
    "x-y average along z"
   ]
  },
  {
   "cell_type": "code",
   "execution_count": null,
   "metadata": {
    "collapsed": false
   },
   "outputs": [],
   "source": [
    "V2z = []\n",
    "for jj in range(nz):\n",
    "    V2z.append(np.sum(V2[:,:,jj])/ny/nx)"
   ]
  },
  {
   "cell_type": "code",
   "execution_count": null,
   "metadata": {
    "collapsed": false
   },
   "outputs": [],
   "source": [
    "plt.plot(V2z)"
   ]
  },
  {
   "cell_type": "code",
   "execution_count": null,
   "metadata": {
    "collapsed": false
   },
   "outputs": [],
   "source": [
    "from pymatgen.io.vaspio.vasp_output import Locpot\n",
    "\n",
    "fin1 = 'LOCPOT-charge' #charged defect\n",
    "fin2 = 'LOCPOT-bulk' #bulk\n",
    "lpot1 = Locpot.from_file(fin1)\n",
    "lpot2 = Locpot.from_file(fin2)\n",
    "lpot_z1 = lpot1.get_average_along_axis(2)\n",
    "lpot_z2 = lpot2.get_average_along_axis(2)\n",
    "lpot_z = lpot_z1 - lpot_z2\n",
    "\n",
    "\n",
    "#fin3 = 'LOCPOT-neutral' #neutral\n",
    "#lpot3 = Locpot.from_file(fin3)\n",
    "#lpot_z3 = lpot3.get_average_along_axis(2)\n",
    "\n",
    "#from pymatgen.io.vaspio.vasp_output import Chgcar\n",
    "\n",
    "#fin1 = 'CHGCAR-charge' #charged defect\n",
    "#fin2 = 'CHGCAR-neutral' #neutral\n",
    "#chg1 = Chgcar.from_file(fin1)\n",
    "#chg2 = Chgcar.from_file(fin2)\n",
    "#chg_z1 = chg1.get_average_along_axis(2)\n",
    "#chg_z2 = chg2.get_average_along_axis(2)"
   ]
  },
  {
   "cell_type": "code",
   "execution_count": null,
   "metadata": {
    "collapsed": false
   },
   "outputs": [],
   "source": [
    "V2z = np.array(V2z)\n",
    "\n",
    "# unit converstion : eV --> V\n",
    "#k = 1/4*np.pi*epsilon_0 = 9 x 10^9 Nm^2/C^2\n",
    "# e = 1.6 x 10^-19 C, epsilon_0 = 1/k = 8.85 x 10^-12 C^2/Nm^2\n",
    "# 1 Joule = 1 Nm = 1 C.V = 6.24 x 10^18 eV\n",
    "# RHO/epsilon_0 = 1.6 x 10^-19 C / 8.85 x 10^-12 C^2/Nm^2 (C.V x 10^10 Ang)\n",
    "To_V = 180.79 \n",
    "n = len(lpot_z1)\n",
    "x1 = lpot1.get_axis_grid(2)\n",
    "x1 = np.array(x1)"
   ]
  },
  {
   "cell_type": "markdown",
   "metadata": {},
   "source": [
    "Plot model and dft electrostatic potential"
   ]
  },
  {
   "cell_type": "code",
   "execution_count": null,
   "metadata": {
    "collapsed": true
   },
   "outputs": [],
   "source": [
    "# V2z (model potential) after dividing by conversion factor to V\n",
    "V2z_corr = -V2z/180.79\n",
    "x_shift = x + 11.25\n",
    "plt.plot(x_shift, V2z_corr, 'r',label='V-Model')\n",
    "\n",
    "# DFT potential after correcting for potential due to monopole corection \n",
    "# whcih is V^mono_corr = alpha*q/epsilon*length\n",
    "lpot_z_corr = -lpot_z - (-0.047)\n",
    "plt.plot(x1 , lpot_z_corr, 'k',label='V-DFT')\n",
    "plt.grid()\n",
    "plt.xlabel('Z-axis (A)')\n",
    "plt.ylabel('Potential (V)')\n",
    "plt.legend(bbox_to_anchor=(1.4,1))"
   ]
  },
  {
   "cell_type": "code",
   "execution_count": null,
   "metadata": {
    "collapsed": false
   },
   "outputs": [],
   "source": [
    "Vpot = []\n",
    "x2 = []\n",
    "for i,xi in enumerate(x1):\n",
    "    for j,xj in enumerate(x_shift):\n",
    "        if abs(xj - xi) < 1e-2:\n",
    "            #print xi, xj\n",
    "            x2.append(xj)\n",
    "            Vpot.append(lpot_z_corr[i] - (V2z_corr[j]))\n",
    "plt.plot(x2,Vpot, 'b',label='Difference')\n",
    "plt.hlines(0, min(x2), max(x2), 'c')\n",
    "plt.plot(x_shift, V2z_corr, 'r',label='V-Model')\n",
    "plt.plot(x1 , lpot_z_corr, 'k',label='V-DFT')\n",
    "plt.xlabel('Z-axis (A)')\n",
    "plt.ylabel('Potential (V)')\n",
    "plt.grid()\n",
    "plt.legend(bbox_to_anchor=(0.35,0.35))\n",
    "plt.savefig('3D_DFT-Model_potential.pdf',format='pdf')\n",
    "plt.show()"
   ]
  }
 ],
 "metadata": {
  "kernelspec": {
   "display_name": "Python 2",
   "language": "python",
   "name": "python2"
  },
  "language_info": {
   "codemirror_mode": {
    "name": "ipython",
    "version": 2
   },
   "file_extension": ".py",
   "mimetype": "text/x-python",
   "name": "python",
   "nbconvert_exporter": "python",
   "pygments_lexer": "ipython2",
   "version": "2.7.10"
  }
 },
 "nbformat": 4,
 "nbformat_minor": 0
}
